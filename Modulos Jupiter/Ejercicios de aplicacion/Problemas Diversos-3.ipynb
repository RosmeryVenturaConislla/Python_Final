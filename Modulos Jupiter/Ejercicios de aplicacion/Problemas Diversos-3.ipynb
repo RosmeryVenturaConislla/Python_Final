{
 "cells": [
  {
   "cell_type": "markdown",
   "metadata": {},
   "source": [
    "# PROBLEMAS DIVERSOS"
   ]
  },
  {
   "cell_type": "markdown",
   "metadata": {},
   "source": [
    "<h3>1.</h3>\n",
    "Realizar una función que permita la carga de n alumnos. Por cada alumno se deberá preguntar el nombre completo y permitir el ingreso de 3 notas. Las notas deben estar comprendidas entre 0 y 10. Devolver el listado de alumnos."
   ]
  },
  {
   "cell_type": "code",
   "execution_count": 164,
   "metadata": {},
   "outputs": [
    {
     "name": "stdout",
     "output_type": "stream",
     "text": [
      "Ingrese cantidad de alumnos:2\n",
      "Ingrese datos del alumno 1 \n",
      "Nombre : df\n",
      "Nota 1 : 2\n",
      "Nota 2 : 3\n",
      "Nota 3 : 2\n",
      "Ingrese datos del alumno 2 \n",
      "Nombre : ee\n",
      "Nota 1 : 2\n",
      "Nota 2 : 3\n",
      "Nota 3 : 2\n",
      "[{'Nombre': 'df', 'Nota 1': '2', 'Nota 2': '3', 'Nota 3': '2'}, {'Nombre': 'ee', 'Nota 1': '2', 'Nota 2': '3', 'Nota 3': '2'}]\n"
     ]
    }
   ],
   "source": [
    "while True:\n",
    "    try:\n",
    "        alumno=int(input(\"Ingrese cantidad de alumnos:\"))\n",
    "        break\n",
    "    except ValueError:\n",
    "        print(\"Error, Ingrese un dato correcto \")\n",
    "Alum=[]\n",
    "for i in range(0,alumno):\n",
    "    print(f\"Ingrese datos del alumno {i+1} \")\n",
    "    Datos={\n",
    "        'Nombre': input('Nombre : '),\n",
    "        'Nota 1': input('Nota 1 : '),\n",
    "        'Nota 2': input('Nota 2 : '),\n",
    "        'Nota 3': input('Nota 3 : ')\n",
    "    }\n",
    "    Alum.append(Datos)\n",
    "print(Alum)\n",
    "\n",
    "\n"
   ]
  },
  {
   "cell_type": "markdown",
   "metadata": {},
   "source": [
    "#### "
   ]
  },
  {
   "cell_type": "markdown",
   "metadata": {},
   "source": [
    "### 2.\n",
    "Definir una función que dado un listado de alumnos evalúe cuántos aprobaron y cuántos desaprobaron, teniendo en cuenta que se aprueba con 4. La nota será el promedio de las 3 notas para cada alumno."
   ]
  },
  {
   "cell_type": "code",
   "execution_count": 168,
   "metadata": {},
   "outputs": [
    {
     "name": "stdout",
     "output_type": "stream",
     "text": [
      "Ingrese cantidad de alumnos:2\n",
      "Ingrese nota del estudiante 1: \n",
      "Ingrese nota  1: 3\n",
      "Ingrese nota  2: 3\n",
      "Ingrese nota  3: 3\n",
      "Ingrese nota del estudiante 2: \n",
      "Ingrese nota  1: 4\n",
      "Ingrese nota  2: 4\n",
      "Ingrese nota  3: 4\n",
      "la suma de notas es:  21\n",
      "cantidad de aprobados  1\n",
      "cantidad de desaprobados  1\n",
      "promedio del curso es:  10.5\n"
     ]
    }
   ],
   "source": [
    "aprobadas=0\n",
    "desaprobadas=0\n",
    "suma=0\n",
    "sumapro=0\n",
    "while True:\n",
    "    try:\n",
    "        alumnos=int(input(\"Ingrese cantidad de alumnos:\"))\n",
    "        break\n",
    "    except ValueError:\n",
    "        print(\"Error, Ingrese un dato correcto \")\n",
    "\n",
    "for i in range(0,alumnos):\n",
    "    print(\"Ingrese nota del estudiante \"+str(i+1)+\": \")\n",
    "    \n",
    "    for n in range(0,3):\n",
    "        notas=int(input(\"Ingrese nota  \" +str(n+1)+\": \" ))\n",
    "        suma=suma +notas\n",
    "        promedio=suma/3\n",
    "        nota.append(notas)\n",
    "    pass\n",
    "    if promedio>=4:\n",
    "        aprobadas+=1\n",
    "    else:\n",
    "        desaprobadas+=1\n",
    "print(\"la suma de notas es: \", suma)\n",
    "print(\"cantidad de aprobados \", aprobadas)\n",
    "print(\"cantidad de desaprobados \", desaprobadas)\n",
    "print(\"promedio del curso es: \", suma/alumno)\n",
    "\n"
   ]
  },
  {
   "cell_type": "markdown",
   "metadata": {},
   "source": [
    "# Informar el promedio de nota del curso total."
   ]
  },
  {
   "cell_type": "code",
   "execution_count": null,
   "metadata": {},
   "outputs": [],
   "source": []
  },
  {
   "cell_type": "code",
   "execution_count": null,
   "metadata": {},
   "outputs": [],
   "source": []
  },
  {
   "cell_type": "markdown",
   "metadata": {},
   "source": [
    "### 4.\n",
    "Realizar una función que indique quién tuvo el promedio más alto y quién tuvo la nota promedio más baja."
   ]
  },
  {
   "cell_type": "code",
   "execution_count": 156,
   "metadata": {},
   "outputs": [
    {
     "name": "stdout",
     "output_type": "stream",
     "text": [
      "Ingrese cantidad de alumnos:2\n",
      "Ingrese nota del estudiante 1: \n",
      "Ingrese nota  1: 3\n",
      "Ingrese nota  2: 4\n",
      "Ingrese nota  3: 3\n",
      "El promedio 1 es: 3.3333333333333335\n",
      "Ingrese nota del estudiante 2: \n",
      "Ingrese nota  1: 4\n",
      "Ingrese nota  2: 3\n",
      "Ingrese nota  3: 4\n",
      "El promedio 2 es: 3.6666666666666665\n",
      "El promedio es:  [3.3333333333333335, 3.6666666666666665]\n",
      "El promedio mayor es:  3.6666666666666665\n",
      "El promedio menor es:  3.3333333333333335\n"
     ]
    }
   ],
   "source": [
    "while True:\n",
    "    try:\n",
    "        Estudiante=int(input(\"Ingrese cantidad de alumnos:\"))\n",
    "        break\n",
    "    except ValueError:\n",
    "        print(\"Error, Ingrese un dato correcto \")\n",
    "\n",
    "Promedio=[]\n",
    "for i in range(0,Estudiante):\n",
    "    print(\"Ingrese nota del estudiante \"+str(i+1)+\": \")\n",
    "    sum=0\n",
    "    for n in range(0,3):\n",
    "        notas=int(input(\"Ingrese nota  \" +str(n+1)+\": \" ))\n",
    "        sum=sum+notas  \n",
    "        prom=sum/3\n",
    "    pass\n",
    "    Promedio.append(prom)\n",
    "    print(\"El promedio \"+str(i+1)+\" es:\",prom)\n",
    "print(\"El promedio es: \",Promedio)\n",
    "maximo= max(Promedio)\n",
    "minimo=min(Promedio)\n",
    "if maximo>minimo:\n",
    "    print(\"El promedio mayor es: \", maximo)\n",
    "    print(\"El promedio menor es: \", minimo)"
   ]
  },
  {
   "cell_type": "markdown",
   "metadata": {},
   "source": []
  }
 ],
 "metadata": {
  "kernelspec": {
   "display_name": "Python 3",
   "language": "python",
   "name": "python3"
  },
  "language_info": {
   "codemirror_mode": {
    "name": "ipython",
    "version": 3
   },
   "file_extension": ".py",
   "mimetype": "text/x-python",
   "name": "python",
   "nbconvert_exporter": "python",
   "pygments_lexer": "ipython3",
   "version": "3.8.5"
  }
 },
 "nbformat": 4,
 "nbformat_minor": 4
}
